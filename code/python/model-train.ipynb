{
  "nbformat": 4,
  "nbformat_minor": 0,
  "metadata": {
    "colab": {
      "provenance": []
    },
    "kernelspec": {
      "name": "python3",
      "display_name": "Python 3"
    },
    "language_info": {
      "name": "python"
    }
  },
  "cells": [
    {
      "cell_type": "code",
      "source": [
        "import pandas as pd\n",
        "from sklearn.model_selection import train_test_split\n",
        "from sklearn.preprocessing import StandardScaler\n",
        "from sklearn.ensemble import RandomForestClassifier\n",
        "from sklearn.model_selection import RandomizedSearchCV\n",
        "from xgboost import XGBClassifier\n",
        "\n",
        "# Load the dataset\n",
        "df = pd.read_csv(\"../../data.csv\")\n",
        "\n",
        "# Split data into X and y\n",
        "X = df.drop(\"outcome\", axis=1)\n",
        "y = df[\"outcome\"]\n",
        "\n",
        "# Split data into train and test sets\n",
        "X_train, X_test, y_train, y_test = train_test_split(X, y, test_size=0.2, random_state=42)\n",
        "\n",
        "# Scaling the data\n",
        "scalar = StandardScaler().fit(X_train)\n",
        "X_train = scalar.transform(X_train)\n",
        "X_test = scalar.transform(X_test)\n",
        "\n",
        "# Initialize models\n",
        "models = {\n",
        "    \"Random Forest\": RandomForestClassifier(),\n",
        "    \"XGB\": XGBClassifier()\n",
        "}\n",
        "\n",
        "# Define hyperparameter grids\n",
        "rf_grid = {\n",
        "    \"n_estimators\": [10, 50, 100],\n",
        "    \"max_depth\": [None, 3, 5, 10],\n",
        "    \"min_samples_split\": [2, 5, 10],\n",
        "    \"min_samples_leaf\": [1, 2, 4]\n",
        "}\n",
        "\n",
        "xgb_grid = {\n",
        "    'n_estimators': [100, 200, 300],\n",
        "    'max_depth': [3, 4, 5],\n",
        "    'learning_rate': [0.1, 0.2, 0.3],\n",
        "    'subsample': [0.7, 0.9, 1.0],\n",
        "    'min_child_weight': [1, 2, 3]\n",
        "}\n",
        "\n",
        "# Perform Randomized Search CV\n",
        "rs_rf = RandomizedSearchCV(RandomForestClassifier(), param_distributions=rf_grid, cv=5, n_iter=10, verbose=True)\n",
        "rs_rf.fit(X_train, y_train)\n",
        "\n",
        "rs_xgb = RandomizedSearchCV(XGBClassifier(), param_distributions=xgb_grid, cv=5, n_iter=10, verbose=True)\n",
        "rs_xgb.fit(X_train, y_train)\n",
        "\n",
        "# Save the best XGBoost model\n",
        "best_xgb_model_filename = '../../model/best_xgb_model.json'\n",
        "rs_xgb.best_estimator_.save_model(best_xgb_model_filename)\n"
      ],
      "metadata": {
        "colab": {
          "base_uri": "https://localhost:8080/"
        },
        "id": "GURNmoK3Pl3W",
        "outputId": "e8cb4683-ea23-4016-e472-ecdac817d497"
      },
      "execution_count": 13,
      "outputs": [
        {
          "output_type": "stream",
          "name": "stdout",
          "text": [
            "Fitting 5 folds for each of 10 candidates, totalling 50 fits\n",
            "Fitting 5 folds for each of 10 candidates, totalling 50 fits\n"
          ]
        }
      ]
    }
  ]
}